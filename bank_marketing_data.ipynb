{
  "nbformat": 4,
  "nbformat_minor": 0,
  "metadata": {
    "colab": {
      "name": "bank_marketing_data.ipynb",
      "provenance": [],
      "collapsed_sections": [],
      "toc_visible": true
    },
    "kernelspec": {
      "name": "python3",
      "display_name": "Python 3"
    }
  },
  "cells": [
    {
      "cell_type": "markdown",
      "metadata": {
        "id": "WkRZvK9BB7Cv"
      },
      "source": [
        "# Mini Project: Bank Marketing Data"
      ]
    },
    {
      "cell_type": "markdown",
      "metadata": {
        "id": "5cGp9g7wdBWh"
      },
      "source": [
        "## Preparation"
      ]
    },
    {
      "cell_type": "markdown",
      "metadata": {
        "id": "dkc8kf4WCFqJ"
      },
      "source": [
        "The data is related with direct marketing campaigns of a Portuguese banking institution. The marketing campaigns were based on phone calls. Often, more than one\n",
        "contact to the same client was required, in order to access if the product (bank term\n",
        "deposit) would be (’yes’) or not (’no’) subscribed."
      ]
    },
    {
      "cell_type": "code",
      "metadata": {
        "id": "jSQ8Ti67B0UJ",
        "colab": {
          "base_uri": "https://localhost:8080/",
          "height": 71
        },
        "outputId": "6fbab383-0e72-44f4-e97c-0a4b7cabd4c3"
      },
      "source": [
        "#import linear algebra and data manipulation libraries\n",
        "import numpy as np\n",
        "import pandas as pd\n",
        "\n",
        "#import standard visualization\n",
        "import matplotlib.pyplot as plt\n",
        "import seaborn as sns\n",
        "\n",
        "#import machine learning\n",
        "from sklearn.ensemble import RandomForestClassifier\n",
        "from sklearn.ensemble import AdaBoostClassifier, GradientBoostingClassifier\n",
        "from sklearn.svm import SVC\n",
        "from sklearn.neighbors import KNeighborsClassifier\n",
        "from sklearn.naive_bayes import GaussianNB\n",
        "\n",
        "import xgboost\n",
        "\n",
        "from sklearn.model_selection import train_test_split #split\n",
        "from sklearn.metrics import accuracy_score #metrics\n",
        "\n",
        "#tools for hyperparameters search\n",
        "from sklearn.model_selection import StratifiedKFold\n",
        "from sklearn.model_selection import RandomizedSearchCV, GridSearchCV\n",
        "\n",
        "import os\n"
      ],
      "execution_count": null,
      "outputs": [
        {
          "output_type": "stream",
          "text": [
            "/usr/local/lib/python3.6/dist-packages/statsmodels/tools/_testing.py:19: FutureWarning: pandas.util.testing is deprecated. Use the functions in the public API at pandas.testing instead.\n",
            "  import pandas.util.testing as tm\n"
          ],
          "name": "stderr"
        }
      ]
    },
    {
      "cell_type": "code",
      "metadata": {
        "id": "KbCaOH4ACajO",
        "colab": {
          "base_uri": "https://localhost:8080/",
          "height": 289
        },
        "outputId": "a08f0a48-a1de-4cf8-d7b5-6376824c87bd"
      },
      "source": [
        "# import data\n",
        "bank_train = pd.read_csv(\"BankMarketing_training.csv\")\n",
        "bank_test = pd.read_csv(\"BankMarketing_testing.csv\")\n",
        "# view the data\n",
        "bank_train.head(), bank_test.head()"
      ],
      "execution_count": null,
      "outputs": [
        {
          "output_type": "execute_result",
          "data": {
            "text/plain": [
              "(   Unnamed: 0  age          job  ... euribor3m nr.employed   y\n",
              " 0       29023   37  blue-collar  ...     1.405      5099.1  no\n",
              " 1       37067   27      student  ...     1.029      5076.2  no\n",
              " 2       10378   45   management  ...     4.960      5228.1  no\n",
              " 3       25506   34   technician  ...     4.120      5195.8  no\n",
              " 4       28132   55   management  ...     1.466      5099.1  no\n",
              " \n",
              " [5 rows x 22 columns],\n",
              "    Unnamed: 0  age          job  ... euribor3m nr.employed   y\n",
              " 0           1   30  blue-collar  ...     1.313      5099.1  no\n",
              " 1           2   39     services  ...     4.855      5191.0  no\n",
              " 2           3   25     services  ...     4.962      5228.1  no\n",
              " 3           4   38     services  ...     4.959      5228.1  no\n",
              " 4           5   47       admin.  ...     4.191      5195.8  no\n",
              " \n",
              " [5 rows x 22 columns])"
            ]
          },
          "metadata": {
            "tags": []
          },
          "execution_count": 2
        }
      ]
    },
    {
      "cell_type": "code",
      "metadata": {
        "id": "Ev_uC9j6eRpO"
      },
      "source": [
        "# get rid of the ID column\n",
        "bank_train = bank_train.drop('Unnamed: 0', 1)\n",
        "bank_test = bank_test.drop('Unnamed: 0', 1)"
      ],
      "execution_count": null,
      "outputs": []
    },
    {
      "cell_type": "code",
      "metadata": {
        "id": "gsgMwueeSAkR",
        "colab": {
          "base_uri": "https://localhost:8080/",
          "height": 51
        },
        "outputId": "5c499a87-f2ba-4bac-d187-8a419a94241d"
      },
      "source": [
        "# number of rows in dataset\n",
        "print(\"Bank marketing dataset consists of {rows} rows.\".format(rows = len(bank_train)))\n",
        "print(\"Bank marketing dataset consists of {cols} columns.\".format(cols = bank_train.shape[1]))"
      ],
      "execution_count": null,
      "outputs": [
        {
          "output_type": "stream",
          "text": [
            "Bank marketing dataset consists of 41188 rows.\n",
            "Bank marketing dataset consists of 21 columns.\n"
          ],
          "name": "stdout"
        }
      ]
    },
    {
      "cell_type": "code",
      "metadata": {
        "id": "Ycf60zJtSkr7",
        "colab": {
          "base_uri": "https://localhost:8080/",
          "height": 34
        },
        "outputId": "9de9f411-b6b0-461e-e605-cb974a266d68"
      },
      "source": [
        "# find percentage of missing values for each column\n",
        "train_missing = bank_train.isnull().mean()*100\n",
        "test_missing = bank_test.isnull().mean()*100\n",
        "train_missing.sum(), test_missing.sum()"
      ],
      "execution_count": null,
      "outputs": [
        {
          "output_type": "execute_result",
          "data": {
            "text/plain": [
              "(0.0, 0.0)"
            ]
          },
          "metadata": {
            "tags": []
          },
          "execution_count": 5
        }
      ]
    },
    {
      "cell_type": "markdown",
      "metadata": {
        "id": "lZtSYozdS4LL"
      },
      "source": [
        "There are no missing values."
      ]
    },
    {
      "cell_type": "markdown",
      "metadata": {
        "id": "X6kLhyo9S8Kh"
      },
      "source": [
        "## Exploratory Data Analysis"
      ]
    },
    {
      "cell_type": "markdown",
      "metadata": {
        "id": "LocOHGPWXOcn"
      },
      "source": [
        "### Analysis of the response column"
      ]
    },
    {
      "cell_type": "markdown",
      "metadata": {
        "id": "FWTGkfjDS9Ur"
      },
      "source": [
        "**(a) Briefly summarize the response variable, i.e., proportion of each class of observations (yes vs no) in both training and testing data sets.**"
      ]
    },
    {
      "cell_type": "markdown",
      "metadata": {
        "id": "Uh503Cr2XRDt"
      },
      "source": [
        "It is very important to look at the response column, which holds the information, which we are going to predict. In our case we should look at 'deposit' column and compare its values to other columns.\n",
        "First of all we should look at the number of 'yes' and 'no' values in the response column 'deposit'."
      ]
    },
    {
      "cell_type": "code",
      "metadata": {
        "id": "EPVjUCisXE2W",
        "colab": {
          "base_uri": "https://localhost:8080/",
          "height": 306
        },
        "outputId": "ad34ff29-607f-4f0b-f465-1080f9114bd1"
      },
      "source": [
        "# plot the proportion of yes and no for training set\n",
        "train_counts = bank_train['y'].value_counts()/len(bank_train)\n",
        "train_counts.plot.bar(title = 'Deposit value counts for training data')"
      ],
      "execution_count": null,
      "outputs": [
        {
          "output_type": "execute_result",
          "data": {
            "text/plain": [
              "<matplotlib.axes._subplots.AxesSubplot at 0x7efe870fecf8>"
            ]
          },
          "metadata": {
            "tags": []
          },
          "execution_count": 6
        },
        {
          "output_type": "display_data",
          "data": {
            "image/png": "[encoded data removed]",
            "text/plain": [
              "<Figure size 432x288 with 1 Axes>"
            ]
          },
          "metadata": {
            "tags": [],
            "needs_background": "light"
          }
        }
      ]
    },
    {
      "cell_type": "code",
      "metadata": {
        "id": "O0-8lfzxX3KR",
        "colab": {
          "base_uri": "https://localhost:8080/",
          "height": 306
        },
        "outputId": "ced5ed2d-1f65-41f9-fad4-0c59a3a8f99d"
      },
      "source": [
        "# do the same for testing set\n",
        "test_counts = bank_test['y'].value_counts()/len(bank_test)\n",
        "test_counts.plot.bar(title = \"Deposit value counts for testing data\")"
      ],
      "execution_count": null,
      "outputs": [
        {
          "output_type": "execute_result",
          "data": {
            "text/plain": [
              "<matplotlib.axes._subplots.AxesSubplot at 0x7efec0eb7dd8>"
            ]
          },
          "metadata": {
            "tags": []
          },
          "execution_count": 7
        },
        {
          "output_type": "display_data",
          "data": {
            "image/png": "[encoded data removed]",
            "text/plain": [
              "<Figure size 432x288 with 1 Axes>"
            ]
          },
          "metadata": {
            "tags": [],
            "needs_background": "light"
          }
        }
      ]
    },
    {
      "cell_type": "markdown",
      "metadata": {
        "id": "5QSbIyurYC_L"
      },
      "source": [
        "**As seen from the two charts above, both the training and testing sets have approximately and 90% to 10% split between the no and yes**"
      ]
    },
    {
      "cell_type": "markdown",
      "metadata": {
        "id": "lGK-sO2oTKJZ"
      },
      "source": [
        "### Feature exploration"
      ]
    },
    {
      "cell_type": "markdown",
      "metadata": {
        "id": "lfniijAIYgKJ"
      },
      "source": [
        "**(b) Briefly summarize the predictors (in training data set) using appropriate tools.**"
      ]
    },
    {
      "cell_type": "code",
      "metadata": {
        "id": "xAyWY8pBTjsx",
        "colab": {
          "base_uri": "https://localhost:8080/",
          "height": 493
        },
        "outputId": "c9bc1226-bbbf-4f8a-a164-c382abf36b2b"
      },
      "source": [
        "# check the format of the data\n",
        "bank_train.info()"
      ],
      "execution_count": null,
      "outputs": [
        {
          "output_type": "stream",
          "text": [
            "<class 'pandas.core.frame.DataFrame'>\n",
            "RangeIndex: 41188 entries, 0 to 41187\n",
            "Data columns (total 21 columns):\n",
            " #   Column          Non-Null Count  Dtype  \n",
            "---  ------          --------------  -----  \n",
            " 0   age             41188 non-null  int64  \n",
            " 1   job             41188 non-null  object \n",
            " 2   marital         41188 non-null  object \n",
            " 3   education       41188 non-null  object \n",
            " 4   default         41188 non-null  object \n",
            " 5   housing         41188 non-null  object \n",
            " 6   loan            41188 non-null  object \n",
            " 7   contact         41188 non-null  object \n",
            " 8   month           41188 non-null  object \n",
            " 9   day_of_week     41188 non-null  object \n",
            " 10  duration        41188 non-null  int64  \n",
            " 11  campaign        41188 non-null  int64  \n",
            " 12  pdays           41188 non-null  int64  \n",
            " 13  previous        41188 non-null  int64  \n",
            " 14  poutcome        41188 non-null  object \n",
            " 15  emp.var.rate    41188 non-null  float64\n",
            " 16  cons.price.idx  41188 non-null  float64\n",
            " 17  cons.conf.idx   41188 non-null  float64\n",
            " 18  euribor3m       41188 non-null  float64\n",
            " 19  nr.employed     41188 non-null  float64\n",
            " 20  y               41188 non-null  object \n",
            "dtypes: float64(5), int64(5), object(11)\n",
            "memory usage: 6.6+ MB\n"
          ],
          "name": "stdout"
        }
      ]
    },
    {
      "cell_type": "code",
      "metadata": {
        "id": "2S7CpAZyaI_n",
        "colab": {
          "base_uri": "https://localhost:8080/",
          "height": 317
        },
        "outputId": "ef1e1aa4-bed2-40ed-a1a3-dc75d965c379"
      },
      "source": [
        "# Examine the range and attribute of each column\n",
        "bank_train.describe()"
      ],
      "execution_count": null,
      "outputs": [
        {
          "output_type": "execute_result",
          "data": {
            "text/html": [
              "<div>\n",
              "<style scoped>\n",
              "    .dataframe tbody tr th:only-of-type {\n",
              "        vertical-align: middle;\n",
              "    }\n",
              "\n",
              "    .dataframe tbody tr th {\n",
              "        vertical-align: top;\n",
              "    }\n",
              "\n",
              "    .dataframe thead th {\n",
              "        text-align: right;\n",
              "    }\n",
              "</style>\n",
              "<table border=\"1\" class=\"dataframe\">\n",
              "  <thead>\n",
              "    <tr style=\"text-align: right;\">\n",
              "      <th></th>\n",
              "      <th>age</th>\n",
              "      <th>duration</th>\n",
              "      <th>campaign</th>\n",
              "      <th>pdays</th>\n",
              "      <th>previous</th>\n",
              "      <th>emp.var.rate</th>\n",
              "      <th>cons.price.idx</th>\n",
              "      <th>cons.conf.idx</th>\n",
              "      <th>euribor3m</th>\n",
              "      <th>nr.employed</th>\n",
              "    </tr>\n",
              "  </thead>\n",
              "  <tbody>\n",
              "    <tr>\n",
              "      <th>count</th>\n",
              "      <td>41188.00000</td>\n",
              "      <td>41188.000000</td>\n",
              "      <td>41188.000000</td>\n",
              "      <td>41188.000000</td>\n",
              "      <td>41188.000000</td>\n",
              "      <td>41188.000000</td>\n",
              "      <td>41188.000000</td>\n",
              "      <td>41188.000000</td>\n",
              "      <td>41188.000000</td>\n",
              "      <td>41188.000000</td>\n",
              "    </tr>\n",
              "    <tr>\n",
              "      <th>mean</th>\n",
              "      <td>40.02406</td>\n",
              "      <td>258.285010</td>\n",
              "      <td>2.567593</td>\n",
              "      <td>962.475454</td>\n",
              "      <td>0.172963</td>\n",
              "      <td>0.081886</td>\n",
              "      <td>93.575664</td>\n",
              "      <td>-40.502600</td>\n",
              "      <td>3.621291</td>\n",
              "      <td>5167.035911</td>\n",
              "    </tr>\n",
              "    <tr>\n",
              "      <th>std</th>\n",
              "      <td>10.42125</td>\n",
              "      <td>259.279249</td>\n",
              "      <td>2.770014</td>\n",
              "      <td>186.910907</td>\n",
              "      <td>0.494901</td>\n",
              "      <td>1.570960</td>\n",
              "      <td>0.578840</td>\n",
              "      <td>4.628198</td>\n",
              "      <td>1.734447</td>\n",
              "      <td>72.251528</td>\n",
              "    </tr>\n",
              "    <tr>\n",
              "      <th>min</th>\n",
              "      <td>17.00000</td>\n",
              "      <td>0.000000</td>\n",
              "      <td>1.000000</td>\n",
              "      <td>0.000000</td>\n",
              "      <td>0.000000</td>\n",
              "      <td>-3.400000</td>\n",
              "      <td>92.201000</td>\n",
              "      <td>-50.800000</td>\n",
              "      <td>0.634000</td>\n",
              "      <td>4963.600000</td>\n",
              "    </tr>\n",
              "    <tr>\n",
              "      <th>25%</th>\n",
              "      <td>32.00000</td>\n",
              "      <td>102.000000</td>\n",
              "      <td>1.000000</td>\n",
              "      <td>999.000000</td>\n",
              "      <td>0.000000</td>\n",
              "      <td>-1.800000</td>\n",
              "      <td>93.075000</td>\n",
              "      <td>-42.700000</td>\n",
              "      <td>1.344000</td>\n",
              "      <td>5099.100000</td>\n",
              "    </tr>\n",
              "    <tr>\n",
              "      <th>50%</th>\n",
              "      <td>38.00000</td>\n",
              "      <td>180.000000</td>\n",
              "      <td>2.000000</td>\n",
              "      <td>999.000000</td>\n",
              "      <td>0.000000</td>\n",
              "      <td>1.100000</td>\n",
              "      <td>93.749000</td>\n",
              "      <td>-41.800000</td>\n",
              "      <td>4.857000</td>\n",
              "      <td>5191.000000</td>\n",
              "    </tr>\n",
              "    <tr>\n",
              "      <th>75%</th>\n",
              "      <td>47.00000</td>\n",
              "      <td>319.000000</td>\n",
              "      <td>3.000000</td>\n",
              "      <td>999.000000</td>\n",
              "      <td>0.000000</td>\n",
              "      <td>1.400000</td>\n",
              "      <td>93.994000</td>\n",
              "      <td>-36.400000</td>\n",
              "      <td>4.961000</td>\n",
              "      <td>5228.100000</td>\n",
              "    </tr>\n",
              "    <tr>\n",
              "      <th>max</th>\n",
              "      <td>98.00000</td>\n",
              "      <td>4918.000000</td>\n",
              "      <td>56.000000</td>\n",
              "      <td>999.000000</td>\n",
              "      <td>7.000000</td>\n",
              "      <td>1.400000</td>\n",
              "      <td>94.767000</td>\n",
              "      <td>-26.900000</td>\n",
              "      <td>5.045000</td>\n",
              "      <td>5228.100000</td>\n",
              "    </tr>\n",
              "  </tbody>\n",
              "</table>\n",
              "</div>"
            ],
            "text/plain": [
              "               age      duration  ...     euribor3m   nr.employed\n",
              "count  41188.00000  41188.000000  ...  41188.000000  41188.000000\n",
              "mean      40.02406    258.285010  ...      3.621291   5167.035911\n",
              "std       10.42125    259.279249  ...      1.734447     72.251528\n",
              "min       17.00000      0.000000  ...      0.634000   4963.600000\n",
              "25%       32.00000    102.000000  ...      1.344000   5099.100000\n",
              "50%       38.00000    180.000000  ...      4.857000   5191.000000\n",
              "75%       47.00000    319.000000  ...      4.961000   5228.100000\n",
              "max       98.00000   4918.000000  ...      5.045000   5228.100000\n",
              "\n",
              "[8 rows x 10 columns]"
            ]
          },
          "metadata": {
            "tags": []
          },
          "execution_count": 9
        }
      ]
    },
    {
      "cell_type": "markdown",
      "metadata": {
        "id": "3Gm-xvmcTXIe"
      },
      "source": [
        "Take a look at the values of categorical columns first."
      ]
    },
    {
      "cell_type": "code",
      "metadata": {
        "id": "JLtrBIh0TK1f",
        "colab": {
          "base_uri": "https://localhost:8080/",
          "height": 460
        },
        "outputId": "4110907c-3600-40fd-d7a3-fc21b0e4cba7"
      },
      "source": [
        "cat_columns = ['job', 'marital', 'education', 'default', 'housing', 'loan', \n",
        "               'contact', 'month','day_of_week', 'poutcome']\n",
        "\n",
        "fig, axs = plt.subplots(2, 5, sharex=False, sharey=False, figsize=(25, 12))\n",
        "\n",
        "counter = 0\n",
        "for cat_column in cat_columns:\n",
        "    value_counts = bank_train[cat_column].value_counts()\n",
        "    \n",
        "    trace_x = counter // 5\n",
        "    trace_y = counter % 5\n",
        "    x_pos = np.arange(0, len(value_counts))\n",
        "    \n",
        "    axs[trace_x, trace_y].bar(x_pos, value_counts.values, tick_label = value_counts.index)\n",
        "    \n",
        "    axs[trace_x, trace_y].set_title(cat_column)\n",
        "    \n",
        "    for tick in axs[trace_x, trace_y].get_xticklabels():\n",
        "        tick.set_rotation(90)\n",
        "    \n",
        "    counter += 1\n",
        "\n",
        "plt.show()"
      ],
      "execution_count": null,
      "outputs": [
        {
          "output_type": "display_data",
          "data": {
            "image/png": "[encoded data removed]",
            "text/plain": [
              "<Figure size 1800x864 with 10 Axes>"
            ]
          },
          "metadata": {
            "tags": [],
            "needs_background": "light"
          }
        }
      ]
    },
    {
      "cell_type": "markdown",
      "metadata": {
        "id": "fkHR5y2dVsCz"
      },
      "source": [
        "Then take a look at the numerical columns' values. The most convenient way to look at the numerical values is plotting histograms."
      ]
    },
    {
      "cell_type": "code",
      "metadata": {
        "id": "vTI6d77wVuV-",
        "colab": {
          "base_uri": "https://localhost:8080/",
          "height": 431
        },
        "outputId": "27b9d9e2-df6c-4e43-ea5d-e560cc7e0932"
      },
      "source": [
        "num_columns = ['age', 'duration', 'campaign', 'pdays', 'previous',\n",
        "               'emp.var.rate', 'cons.price.idx', 'cons.conf.idx',\n",
        "               'euribor3m', 'nr.employed']\n",
        "\n",
        "fig, axs = plt.subplots(2, 5, sharex=False, sharey=False, figsize=(25, 12))\n",
        "\n",
        "counter = 0\n",
        "for num_column in num_columns:\n",
        "    \n",
        "    trace_x = counter // 5\n",
        "    trace_y = counter % 5\n",
        "    \n",
        "    axs[trace_x, trace_y].hist(bank_train[num_column])\n",
        "    \n",
        "    axs[trace_x, trace_y].set_title(num_column)\n",
        "    \n",
        "    counter += 1\n",
        "\n",
        "plt.show()"
      ],
      "execution_count": null,
      "outputs": [
        {
          "output_type": "display_data",
          "data": {
            "image/png": "[encoded data removed]",
            "text/plain": [
              "<Figure size 1800x864 with 10 Axes>"
            ]
          },
          "metadata": {
            "tags": [],
            "needs_background": "light"
          }
        }
      ]
    },
    {
      "cell_type": "markdown",
      "metadata": {
        "id": "HDf17V8jYlS7"
      },
      "source": [
        "## Modeling and Data Analysis"
      ]
    },
    {
      "cell_type": "markdown",
      "metadata": {
        "id": "yD_VXv9UiEKS"
      },
      "source": [
        "### Data Cleaning"
      ]
    },
    {
      "cell_type": "markdown",
      "metadata": {
        "id": "YFJx0vl0iIdE"
      },
      "source": [
        "Before we will be able to apply machine learning techniques, we should prepare the dataset for processing:\n",
        "\n",
        "1. Convert columns with 'yes' and 'no' values to boolean columns;\n",
        "2. Convert categorical columns into dummy variables.\n",
        "3. Extract out all the numerical columns to be used later on"
      ]
    },
    {
      "cell_type": "code",
      "metadata": {
        "id": "z_TO59KBiH_o"
      },
      "source": [
        "def get_dummy_from_bool(row, column_name):\n",
        "    ''' Returns 0 if value in column_name is no, returns 1 if value in column_name is yes'''\n",
        "    return 1 if row[column_name] == 'yes' else 0\n",
        "\n",
        "def get_correct_values(row, column_name, threshold, df):\n",
        "    ''' Returns mean value if value in column_name is above threshold'''\n",
        "    if row[column_name] <= threshold:\n",
        "        return row[column_name]\n",
        "    else:\n",
        "        mean = df[df[column_name] <= threshold][column_name].mean()\n",
        "        return mean\n",
        "\n",
        "def clean_data(df):\n",
        "    '''\n",
        "    INPUT\n",
        "    df - pandas dataframe containing bank marketing campaign dataset\n",
        "    \n",
        "    OUTPUT\n",
        "    df - cleaned dataset:\n",
        "    1. columns with 'yes' and 'no' values are converted into boolean variables;\n",
        "    2. categorical columns are converted into dummy variables;\n",
        "    3. drop irrelevant columns.\n",
        "    4. impute incorrect values\n",
        "    '''\n",
        "    \n",
        "    cleaned_df = df.copy()\n",
        "    \n",
        "    #convert columns containing 'yes' and 'no' values to boolean variables and drop original columns\n",
        "    bool_columns = ['default', 'housing', 'loan', 'y']\n",
        "    for bool_col in bool_columns:\n",
        "        cleaned_df[bool_col + '_bool'] = df.apply(lambda row: get_dummy_from_bool(row, bool_col),axis=1)\n",
        "    \n",
        "    cleaned_df = cleaned_df.drop(columns = bool_columns)\n",
        "    \n",
        "    #convert categorical columns to dummies\n",
        "    cat_columns = ['job', 'marital', 'education', 'contact', \n",
        "                   'month','day_of_week', 'poutcome']\n",
        "    \n",
        "    for col in  cat_columns:\n",
        "        cleaned_df = pd.concat([cleaned_df.drop(col, axis=1),\n",
        "                                pd.get_dummies(cleaned_df[col], prefix=col, prefix_sep='_',\n",
        "                                               drop_first=True, dummy_na=False)], axis=1)\n",
        "    \n",
        "    #drop irrelevant columns\n",
        "    cleaned_df = cleaned_df.drop(columns = ['pdays'])\n",
        "    \n",
        "    #impute incorrect values and drop original columns\n",
        "    cleaned_df['campaign_cleaned'] = df.apply(lambda row: get_correct_values(row, 'campaign', 34, cleaned_df),axis=1)\n",
        "    cleaned_df['previous_cleaned'] = df.apply(lambda row: get_correct_values(row, 'previous', 34, cleaned_df),axis=1)\n",
        "    \n",
        "    cleaned_df = cleaned_df.drop(columns = ['campaign', 'previous'])\n",
        "    \n",
        "    return cleaned_df"
      ],
      "execution_count": null,
      "outputs": []
    },
    {
      "cell_type": "code",
      "metadata": {
        "id": "elYtbyFIi3mu"
      },
      "source": [
        "# clean the dataset\n",
        "cleaned_train = clean_data(bank_train)\n",
        "cleaned_test = clean_data(bank_test)"
      ],
      "execution_count": null,
      "outputs": []
    },
    {
      "cell_type": "code",
      "metadata": {
        "id": "Y2SPQo9RjSk7",
        "colab": {
          "base_uri": "https://localhost:8080/",
          "height": 34
        },
        "outputId": "ba5106f4-c926-45f6-f277-42deac1f3013"
      },
      "source": [
        "# check out the cleaned ones\n",
        "cleaned_train.shape, cleaned_test.shape "
      ],
      "execution_count": null,
      "outputs": [
        {
          "output_type": "execute_result",
          "data": {
            "text/plain": [
              "((41188, 50), (4119, 50))"
            ]
          },
          "metadata": {
            "tags": []
          },
          "execution_count": 14
        }
      ]
    },
    {
      "cell_type": "code",
      "metadata": {
        "id": "3Bg-oqcdflPA"
      },
      "source": [
        "# clean the data to be ready for ML algorithm\n",
        "X_train = cleaned_train.drop('y_bool', axis=1)\n",
        "y_train = cleaned_train['y_bool']\n",
        "X_test = cleaned_test.drop('y_bool', axis=1)\n",
        "y_test = cleaned_test['y_bool']"
      ],
      "execution_count": null,
      "outputs": []
    },
    {
      "cell_type": "code",
      "metadata": {
        "id": "pUe-dXqFlx5C"
      },
      "source": [
        "# extract out numerical columns\n",
        "num_train = bank_train[num_columns]\n",
        "num_test = bank_test[num_columns]"
      ],
      "execution_count": null,
      "outputs": []
    },
    {
      "cell_type": "code",
      "metadata": {
        "id": "Xwh9wzfemHp6"
      },
      "source": [
        "# get the numerical version ready for analysis\n",
        "# clean the data to be ready for ML algorithm\n",
        "X_train_num = num_train\n",
        "y_train_num = y_train\n",
        "X_test_num = num_test\n",
        "y_test_num = y_test"
      ],
      "execution_count": null,
      "outputs": []
    },
    {
      "cell_type": "markdown",
      "metadata": {
        "id": "w14Vji_yaWIr"
      },
      "source": [
        "For a classification problem, we usually have following measurements to evaluate the\n",
        "model performance: \\\\\n",
        "**classification accuracy** =num of obs that are correctly classified / total num of obs; \\\\\n",
        "**sensitivity** =num of ”yes” obs which are correctly classified as ”yes”/ num of totoal\n",
        "”yes” obs \\\\\n",
        "**specificity** =num of ”no” obs which are correctly classified as ”no”/ num of totoal\n",
        "”no” obs"
      ]
    },
    {
      "cell_type": "markdown",
      "metadata": {
        "id": "pZdFUo32dU-7"
      },
      "source": [
        "### LDA and QDA "
      ]
    },
    {
      "cell_type": "code",
      "metadata": {
        "id": "n55sfT4yfamp",
        "colab": {
          "base_uri": "https://localhost:8080/",
          "height": 139
        },
        "outputId": "084dd2b5-c5eb-4f83-bc85-afc54b9fa582"
      },
      "source": [
        "from sklearn.discriminant_analysis import LinearDiscriminantAnalysis, QuadraticDiscriminantAnalysis\n",
        "from sklearn.metrics import confusion_matrix, classification_report, precision_score\n",
        "from imblearn.metrics import sensitivity_specificity_support\n",
        "\n",
        "%matplotlib inline"
      ],
      "execution_count": null,
      "outputs": [
        {
          "output_type": "stream",
          "text": [
            "/usr/local/lib/python3.6/dist-packages/sklearn/externals/six.py:31: FutureWarning: The module is deprecated in version 0.21 and will be removed in version 0.23 since we've dropped support for Python 2.7. Please rely on the official version of six (https://pypi.org/project/six/).\n",
            "  \"(https://pypi.org/project/six/).\", FutureWarning)\n",
            "/usr/local/lib/python3.6/dist-packages/sklearn/utils/deprecation.py:144: FutureWarning: The sklearn.neighbors.base module is  deprecated in version 0.22 and will be removed in version 0.24. The corresponding classes / functions should instead be imported from sklearn.neighbors. Anything that cannot be imported from sklearn.neighbors is now part of the private API.\n",
            "  warnings.warn(message, FutureWarning)\n",
            "/usr/local/lib/python3.6/dist-packages/sklearn/utils/deprecation.py:144: FutureWarning: The sklearn.metrics.classification module is  deprecated in version 0.22 and will be removed in version 0.24. The corresponding classes / functions should instead be imported from sklearn.metrics. Anything that cannot be imported from sklearn.metrics is now part of the private API.\n",
            "  warnings.warn(message, FutureWarning)\n"
          ],
          "name": "stderr"
        }
      ]
    },
    {
      "cell_type": "markdown",
      "metadata": {
        "id": "iPyiZB7ua3pC"
      },
      "source": [
        "**(a) Perform LDA and QDA and apply your trained model to the testing set. Report the corresponding accuracy, sensitivity and specificity for testing set predictions.**"
      ]
    },
    {
      "cell_type": "markdown",
      "metadata": {
        "id": "vL4AOTt4xRhQ"
      },
      "source": [
        "#### LDA"
      ]
    },
    {
      "cell_type": "code",
      "metadata": {
        "id": "0RzlaQ5afceo",
        "colab": {
          "base_uri": "https://localhost:8080/",
          "height": 68
        },
        "outputId": "9e4adba0-5e8a-4362-93d7-bad70982d35e"
      },
      "source": [
        "# fit the lda model\n",
        "lda = LinearDiscriminantAnalysis()\n",
        "model = lda.fit(X_train, y_train)\n",
        "pred = model.predict(X_test)\n",
        "# get the terms from the confusion matrix\n",
        "cm = confusion_matrix(y_test, pred)\n",
        "tp = cm[0][0]\n",
        "fp = cm[0][1]\n",
        "fn = cm[1][0]\n",
        "tn = cm[1][1]\n",
        "# calculate accuracy, sensitivity, specificity\n",
        "accuracy_score = (tp+tn)/(tp+fp+fn+tn)\n",
        "sensitivity = tp/(tp+fn)\n",
        "specificity = tn/(fp+tn)\n",
        "# report the corresponing metrics\n",
        "print(\"The model has an accuracy of {accu}\".format(accu = accuracy_score))\n",
        "print(\"The model has a sensitivity score of {sens}\".format(sens = sensitivity))\n",
        "print(\"The model has a specificity score of {spec}\".format(spec = specificity))"
      ],
      "execution_count": null,
      "outputs": [
        {
          "output_type": "stream",
          "text": [
            "The model has an accuracy of 0.9121145909201263\n",
            "The model has a sensitivity score of 0.9417423837520043\n",
            "The model has a specificity score of 0.6180371352785146\n"
          ],
          "name": "stdout"
        }
      ]
    },
    {
      "cell_type": "markdown",
      "metadata": {
        "id": "HxmwqcddzDUn"
      },
      "source": [
        "#### QDA"
      ]
    },
    {
      "cell_type": "code",
      "metadata": {
        "id": "C6N9dgK1lXMs",
        "colab": {
          "base_uri": "https://localhost:8080/",
          "height": 122
        },
        "outputId": "3e887e13-7447-42d9-bcfa-7b15d3ac3974"
      },
      "source": [
        "# fit the qda model\n",
        "qda = QuadraticDiscriminantAnalysis()\n",
        "model = qda.fit(X_train, y_train)\n",
        "pred = model.predict(X_test)\n",
        "# get the terms from the confusion matrix\n",
        "cm = confusion_matrix(y_test, pred)\n",
        "tp = cm[0][0]\n",
        "fp = cm[0][1]\n",
        "fn = cm[1][0]\n",
        "tn = cm[1][1]\n",
        "# calculate accuracy, sensitivity, specificity\n",
        "accuracy_score = (tp+tn)/(tp+fp+fn+tn)\n",
        "sensitivity = tp/(tp+fn)\n",
        "specificity = tn/(fp+tn)\n",
        "# report the corresponing metrics\n",
        "print(\"The model has an accuracy of {accu}\".format(accu = accuracy_score))\n",
        "print(\"The model has a sensitivity score of {sens}\".format(sens = sensitivity))\n",
        "print(\"The model has a specificity score of {spec}\".format(spec = specificity))"
      ],
      "execution_count": null,
      "outputs": [
        {
          "output_type": "stream",
          "text": [
            "The model has an accuracy of 0.13886865744112648\n",
            "The model has a sensitivity score of 1.0\n",
            "The model has a specificity score of 0.1128064032016008\n"
          ],
          "name": "stdout"
        },
        {
          "output_type": "stream",
          "text": [
            "/usr/local/lib/python3.6/dist-packages/sklearn/discriminant_analysis.py:691: UserWarning: Variables are collinear\n",
            "  warnings.warn(\"Variables are collinear\")\n"
          ],
          "name": "stderr"
        }
      ]
    },
    {
      "cell_type": "markdown",
      "metadata": {
        "id": "go7HZg-nzJzq"
      },
      "source": [
        "**LDA predicted the testing data much better than QDA does.**"
      ]
    },
    {
      "cell_type": "markdown",
      "metadata": {
        "id": "7_VmmS7x0h1G"
      },
      "source": [
        "### Logit and Linear SVM Classifiers"
      ]
    },
    {
      "cell_type": "code",
      "metadata": {
        "id": "G87IHQUO0lmu"
      },
      "source": [
        "# import packages\n",
        "from sklearn.linear_model import LogisticRegression\n",
        "from sklearn.svm import LinearSVC"
      ],
      "execution_count": null,
      "outputs": []
    },
    {
      "cell_type": "markdown",
      "metadata": {
        "id": "eYjMgvQwa7yl"
      },
      "source": [
        "**(b) Perform a logistic regression model and a linear SVM model and apply your trained model on the testing set. Please report the corresponding accuracy, sensitivity and specificity, respectively, for testing set predictions.**"
      ]
    },
    {
      "cell_type": "markdown",
      "metadata": {
        "id": "LtJi1EcX0S3z"
      },
      "source": [
        "#### Logistic Regression"
      ]
    },
    {
      "cell_type": "code",
      "metadata": {
        "id": "1eH5Xnds0XSD",
        "colab": {
          "base_uri": "https://localhost:8080/",
          "height": 224
        },
        "outputId": "c342acb9-d803-4b3a-ebec-c6e0715c7063"
      },
      "source": [
        "# fit the logistic regression model\n",
        "lrc = LogisticRegression()\n",
        "model = lrc.fit(X_train, y_train)\n",
        "pred = model.predict(X_test)\n",
        "# get the terms from the confusion matrix\n",
        "cm = confusion_matrix(y_test, pred)\n",
        "tp = cm[0][0]\n",
        "fp = cm[0][1]\n",
        "fn = cm[1][0]\n",
        "tn = cm[1][1]\n",
        "# calculate accuracy, sensitivity, specificity\n",
        "accuracy_score = (tp+tn)/(tp+fp+fn+tn)\n",
        "sensitivity = tp/(tp+fn)\n",
        "specificity = tn/(fp+tn)\n",
        "# report the corresponing metrics\n",
        "print(\"The model has an accuracy of {accu}\".format(accu = accuracy_score))\n",
        "print(\"The model has a sensitivity score of {sens}\".format(sens = sensitivity))\n",
        "print(\"The model has a specificity score of {spec}\".format(spec = specificity))"
      ],
      "execution_count": null,
      "outputs": [
        {
          "output_type": "stream",
          "text": [
            "The model has an accuracy of 0.9109007040543822\n",
            "The model has a sensitivity score of 0.9315032679738562\n",
            "The model has a specificity score of 0.6428571428571429\n"
          ],
          "name": "stdout"
        },
        {
          "output_type": "stream",
          "text": [
            "/usr/local/lib/python3.6/dist-packages/sklearn/linear_model/_logistic.py:940: ConvergenceWarning: lbfgs failed to converge (status=1):\n",
            "STOP: TOTAL NO. of ITERATIONS REACHED LIMIT.\n",
            "\n",
            "Increase the number of iterations (max_iter) or scale the data as shown in:\n",
            "    https://scikit-learn.org/stable/modules/preprocessing.html\n",
            "Please also refer to the documentation for alternative solver options:\n",
            "    https://scikit-learn.org/stable/modules/linear_model.html#logistic-regression\n",
            "  extra_warning_msg=_LOGISTIC_SOLVER_CONVERGENCE_MSG)\n"
          ],
          "name": "stderr"
        }
      ]
    },
    {
      "cell_type": "markdown",
      "metadata": {
        "id": "fD8_dZbi0Vln"
      },
      "source": [
        "#### SVM"
      ]
    },
    {
      "cell_type": "code",
      "metadata": {
        "id": "uIJ3I7w00SDF",
        "colab": {
          "base_uri": "https://localhost:8080/",
          "height": 122
        },
        "outputId": "6688008f-b0cc-41d2-a7d0-dfd0d57a343e"
      },
      "source": [
        "# fit the SVM model\n",
        "svm = LinearSVC(random_state=0, tol=1e-5)\n",
        "model = svm.fit(X_train, y_train)\n",
        "pred = model.predict(X_test)\n",
        "# get the terms from the confusion matrix\n",
        "cm = confusion_matrix(y_test, pred)\n",
        "tp = cm[0][0]\n",
        "fp = cm[0][1]\n",
        "fn = cm[1][0]\n",
        "tn = cm[1][1]\n",
        "# calculate accuracy, sensitivity, specificity\n",
        "accuracy_score = (tp+tn)/(tp+fp+fn+tn)\n",
        "sensitivity = tp/(tp+fn)\n",
        "specificity = tn/(fp+tn)\n",
        "# report the corresponing metrics\n",
        "print(\"The model has an accuracy of {accu}\".format(accu = accuracy_score))\n",
        "print(\"The model has a sensitivity score of {sens}\".format(sens = sensitivity))\n",
        "print(\"The model has a specificity score of {spec}\".format(spec = specificity))"
      ],
      "execution_count": null,
      "outputs": [
        {
          "output_type": "stream",
          "text": [
            "The model has an accuracy of 0.8907501820830298\n",
            "The model has a sensitivity score of 0.8914841849148418\n",
            "The model has a specificity score of 0.5555555555555556\n"
          ],
          "name": "stdout"
        },
        {
          "output_type": "stream",
          "text": [
            "/usr/local/lib/python3.6/dist-packages/sklearn/svm/_base.py:947: ConvergenceWarning: Liblinear failed to converge, increase the number of iterations.\n",
            "  \"the number of iterations.\", ConvergenceWarning)\n"
          ],
          "name": "stderr"
        }
      ]
    },
    {
      "cell_type": "markdown",
      "metadata": {
        "id": "SbOLzz3s2ROF"
      },
      "source": [
        "### None Linear SVM Classifier"
      ]
    },
    {
      "cell_type": "code",
      "metadata": {
        "id": "B9X06vAe2VUi"
      },
      "source": [
        "from sklearn.svm import SVC  "
      ],
      "execution_count": null,
      "outputs": []
    },
    {
      "cell_type": "markdown",
      "metadata": {
        "id": "v79VwHNcbNV8"
      },
      "source": [
        "**(c) Try a non-linear SVM model and apply your trained model on the testing set. Please report the corresponding accuracy, sensitivity and specificity, respectively, for testing set predictions. Compare your results to those based on a linear SVM model above.**"
      ]
    },
    {
      "cell_type": "code",
      "metadata": {
        "id": "QRvZb6-D2WcQ",
        "colab": {
          "base_uri": "https://localhost:8080/",
          "height": 68
        },
        "outputId": "1fe43daf-53e6-4d33-bc0f-62d3e8e7437d"
      },
      "source": [
        "# fit the non-linear SVM model\n",
        "svm = SVC(kernel ='rbf') \n",
        "model = svm.fit(X_train, y_train)\n",
        "pred = model.predict(X_test)\n",
        "# get the terms from the confusion matrix\n",
        "cm = confusion_matrix(y_test, pred)\n",
        "tp = cm[0][0]\n",
        "fp = cm[0][1]\n",
        "fn = cm[1][0]\n",
        "tn = cm[1][1]\n",
        "# calculate accuracy, sensitivity, specificity\n",
        "accuracy_score = (tp+tn)/(tp+fp+fn+tn)\n",
        "sensitivity = tp/(tp+fn)\n",
        "specificity = tn/(fp+tn)\n",
        "# report the corresponing metrics\n",
        "print(\"The model has an accuracy of {accu}\".format(accu = accuracy_score))\n",
        "print(\"The model has a sensitivity score of {sens}\".format(sens = sensitivity))\n",
        "print(\"The model has a specificity score of {spec}\".format(spec = specificity))"
      ],
      "execution_count": null,
      "outputs": [
        {
          "output_type": "stream",
          "text": [
            "The model has an accuracy of 0.8943918426802622\n",
            "The model has a sensitivity score of 0.8966871165644171\n",
            "The model has a specificity score of 0.6818181818181818\n"
          ],
          "name": "stdout"
        }
      ]
    },
    {
      "cell_type": "markdown",
      "metadata": {
        "id": "_etVYo9I4Hnu"
      },
      "source": [
        "### Compare Results"
      ]
    },
    {
      "cell_type": "markdown",
      "metadata": {
        "id": "2ALNd0kQbWoI"
      },
      "source": [
        "**(d) Compare the prediction results of all above models, which one is better? Do you think the LDA and QDA models are appropriate here? Why?**"
      ]
    },
    {
      "cell_type": "markdown",
      "metadata": {
        "id": "ZCxakAIF4J6Y"
      },
      "source": [
        "Clearly Logistic regression is the winner among all other classifiers with an accuracy of more than 90%. I don't think that LDA and QDA are the most appropriate to use in this case for the following reasons. Discriminant analysis assumes a multivariate normal distribution because what we usually consider to be predictors are really a multivariate dependent variable, and the grouping variable is considered to be a predictor. This means that categorical variables that are to be treated as predictors in the sense you wish are not handled well. This is one reason that many, including myself, consider discriminant analysis to have been made obsolete by logistic regression. Logistic regression makes no distributional assumptions of any kind, on either the left hand or the right hand side of the model. Logistic regression is a direct probability model and doesn't require one to use Bayes' rule to convert results to probabilities as does discriminant analysis."
      ]
    },
    {
      "cell_type": "markdown",
      "metadata": {
        "id": "H46wAHX44ol4"
      },
      "source": [
        "### Re-Fit everything on the numerical data"
      ]
    },
    {
      "cell_type": "markdown",
      "metadata": {
        "id": "t9bWFdhgbbId"
      },
      "source": [
        "**(e) Perform the LDA, QDA, Logistic regression model and the linear SVM model again with continuous predictors only and report their accuracy, sensitivity and specificity values for testing data set, respectively. How are they compared with those above using all predictors.**"
      ]
    },
    {
      "cell_type": "markdown",
      "metadata": {
        "id": "sldLLdLa4w2O"
      },
      "source": [
        "#### LDA and QDA"
      ]
    },
    {
      "cell_type": "code",
      "metadata": {
        "id": "q0Ew8Lt540rY",
        "colab": {
          "base_uri": "https://localhost:8080/",
          "height": 68
        },
        "outputId": "ffa0076a-0d53-4d98-c9e2-04d024bd868f"
      },
      "source": [
        "# LDA\n",
        "lda = LinearDiscriminantAnalysis()\n",
        "model = lda.fit(X_train_num, y_train)\n",
        "pred = model.predict(X_test_num)\n",
        "cm = confusion_matrix(y_test, pred)\n",
        "tp = cm[0][0]\n",
        "fp = cm[0][1]\n",
        "fn = cm[1][0]\n",
        "tn = cm[1][1]\n",
        "accuracy_score = (tp+tn)/(tp+fp+fn+tn)\n",
        "sensitivity = tp/(tp+fn)\n",
        "specificity = tn/(fp+tn)\n",
        "print(\"The model has an accuracy of {accu}\".format(accu = accuracy_score))\n",
        "print(\"The model has a sensitivity score of {sens}\".format(sens = sensitivity))\n",
        "print(\"The model has a specificity score of {spec}\".format(spec = specificity))"
      ],
      "execution_count": null,
      "outputs": [
        {
          "output_type": "stream",
          "text": [
            "The model has an accuracy of 0.9116290361738286\n",
            "The model has a sensitivity score of 0.9361140443505808\n",
            "The model has a specificity score of 0.6314199395770392\n"
          ],
          "name": "stdout"
        }
      ]
    },
    {
      "cell_type": "code",
      "metadata": {
        "id": "arErmMWI5VC3",
        "colab": {
          "base_uri": "https://localhost:8080/",
          "height": 68
        },
        "outputId": "635dd197-0934-4e15-a87c-078fee4e389e"
      },
      "source": [
        "# QDA\n",
        "qda = QuadraticDiscriminantAnalysis()\n",
        "model = qda.fit(X_train_num, y_train)\n",
        "pred = model.predict(X_test_num)\n",
        "cm = confusion_matrix(y_test, pred)\n",
        "tp = cm[0][0]\n",
        "fp = cm[0][1]\n",
        "fn = cm[1][0]\n",
        "tn = cm[1][1]\n",
        "accuracy_score = (tp+tn)/(tp+fp+fn+tn)\n",
        "sensitivity = tp/(tp+fn)\n",
        "specificity = tn/(fp+tn)\n",
        "print(\"The model has an accuracy of {accu}\".format(accu = accuracy_score))\n",
        "print(\"The model has a sensitivity score of {sens}\".format(sens = sensitivity))\n",
        "print(\"The model has a specificity score of {spec}\".format(spec = specificity))"
      ],
      "execution_count": null,
      "outputs": [
        {
          "output_type": "stream",
          "text": [
            "The model has an accuracy of 0.8812818645302258\n",
            "The model has a sensitivity score of 0.9516908212560387\n",
            "The model has a specificity score of 0.4683333333333333\n"
          ],
          "name": "stdout"
        }
      ]
    },
    {
      "cell_type": "markdown",
      "metadata": {
        "id": "5qKVUk4R41hs"
      },
      "source": [
        "#### Logistic Regression and SVM"
      ]
    },
    {
      "cell_type": "code",
      "metadata": {
        "id": "h2J2pnI34s7C",
        "colab": {
          "base_uri": "https://localhost:8080/",
          "height": 224
        },
        "outputId": "63a39803-a290-4e26-af4b-e820a51d90a6"
      },
      "source": [
        "# Logit\n",
        "lrc = LogisticRegression()\n",
        "model = lrc.fit(X_train_num, y_train)\n",
        "pred = model.predict(X_test_num)\n",
        "cm = confusion_matrix(y_test, pred)\n",
        "tp = cm[0][0]\n",
        "fp = cm[0][1]\n",
        "fn = cm[1][0]\n",
        "tn = cm[1][1]\n",
        "accuracy_score = (tp+tn)/(tp+fp+fn+tn)\n",
        "sensitivity = tp/(tp+fn)\n",
        "specificity = tn/(fp+tn)\n",
        "print(\"The model has an accuracy of {accu}\".format(accu = accuracy_score))\n",
        "print(\"The model has a sensitivity score of {sens}\".format(sens = sensitivity))\n",
        "print(\"The model has a specificity score of {spec}\".format(spec = specificity))"
      ],
      "execution_count": null,
      "outputs": [
        {
          "output_type": "stream",
          "text": [
            "The model has an accuracy of 0.9145423646516144\n",
            "The model has a sensitivity score of 0.9306493506493506\n",
            "The model has a specificity score of 0.6840148698884758\n"
          ],
          "name": "stdout"
        },
        {
          "output_type": "stream",
          "text": [
            "/usr/local/lib/python3.6/dist-packages/sklearn/linear_model/_logistic.py:940: ConvergenceWarning: lbfgs failed to converge (status=1):\n",
            "STOP: TOTAL NO. of ITERATIONS REACHED LIMIT.\n",
            "\n",
            "Increase the number of iterations (max_iter) or scale the data as shown in:\n",
            "    https://scikit-learn.org/stable/modules/preprocessing.html\n",
            "Please also refer to the documentation for alternative solver options:\n",
            "    https://scikit-learn.org/stable/modules/linear_model.html#logistic-regression\n",
            "  extra_warning_msg=_LOGISTIC_SOLVER_CONVERGENCE_MSG)\n"
          ],
          "name": "stderr"
        }
      ]
    },
    {
      "cell_type": "code",
      "metadata": {
        "id": "eaSXy5wE57zm",
        "colab": {
          "base_uri": "https://localhost:8080/",
          "height": 122
        },
        "outputId": "2b0a0e5b-6aae-420e-f34d-1c441b72e696"
      },
      "source": [
        "# Linear SVM\n",
        "svm = LinearSVC(random_state=0, tol=1e-5)\n",
        "model = svm.fit(X_train_num, y_train)\n",
        "pred = model.predict(X_test_num)\n",
        "cm = confusion_matrix(y_test, pred)\n",
        "tp = cm[0][0]\n",
        "fp = cm[0][1]\n",
        "fn = cm[1][0]\n",
        "tn = cm[1][1]\n",
        "accuracy_score = (tp+tn)/(tp+fp+fn+tn)\n",
        "sensitivity = tp/(tp+fn)\n",
        "specificity = tn/(fp+tn)\n",
        "print(\"The model has an accuracy of {accu}\".format(accu = accuracy_score))\n",
        "print(\"The model has a sensitivity score of {sens}\".format(sens = sensitivity))\n",
        "print(\"The model has a specificity score of {spec}\".format(spec = specificity))"
      ],
      "execution_count": null,
      "outputs": [
        {
          "output_type": "stream",
          "text": [
            "The model has an accuracy of 0.9099295945617868\n",
            "The model has a sensitivity score of 0.9230177059276367\n",
            "The model has a specificity score of 0.6801801801801802\n"
          ],
          "name": "stdout"
        },
        {
          "output_type": "stream",
          "text": [
            "/usr/local/lib/python3.6/dist-packages/sklearn/svm/_base.py:947: ConvergenceWarning: Liblinear failed to converge, increase the number of iterations.\n",
            "  \"the number of iterations.\", ConvergenceWarning)\n"
          ],
          "name": "stderr"
        }
      ]
    },
    {
      "cell_type": "code",
      "metadata": {
        "id": "jPUWdvOq6KMD",
        "colab": {
          "base_uri": "https://localhost:8080/",
          "height": 68
        },
        "outputId": "08f2e763-da1f-4d40-bee3-014f6e7c320a"
      },
      "source": [
        "# Non Linear SVM\n",
        "svm = SVC(kernel ='rbf') \n",
        "model = svm.fit(X_train_num, y_train)\n",
        "pred = model.predict(X_test_num)\n",
        "cm = confusion_matrix(y_test, pred)\n",
        "tp = cm[0][0]\n",
        "fp = cm[0][1]\n",
        "fn = cm[1][0]\n",
        "tn = cm[1][1]\n",
        "accuracy_score = (tp+tn)/(tp+fp+fn+tn)\n",
        "sensitivity = tp/(tp+fn)\n",
        "specificity = tn/(fp+tn)\n",
        "print(\"The model has an accuracy of {accu}\".format(accu = accuracy_score))\n",
        "print(\"The model has a sensitivity score of {sens}\".format(sens = sensitivity))\n",
        "print(\"The model has a specificity score of {spec}\".format(spec = specificity))"
      ],
      "execution_count": null,
      "outputs": [
        {
          "output_type": "stream",
          "text": [
            "The model has an accuracy of 0.9009468317552805\n",
            "The model has a sensitivity score of 0.9124493927125507\n",
            "The model has a specificity score of 0.6287425149700598\n"
          ],
          "name": "stdout"
        }
      ]
    },
    {
      "cell_type": "markdown",
      "metadata": {
        "id": "S_Xc_SHr6gH2"
      },
      "source": [
        "**There are significant improvements across all the model once using the all numerical continuous data to fit the new model. While all model's classification accruary saw slight improvement, LDA and QDA has the most notable gain simply because the structure of the continuous variables' distribution fit the most to their underlying assumptions**"
      ]
    },
    {
      "cell_type": "markdown",
      "metadata": {
        "id": "6sTGL1Pd7DqX"
      },
      "source": [
        "### Bernoulli Distribution"
      ]
    },
    {
      "cell_type": "markdown",
      "metadata": {
        "id": "OzTV0IeGb57V"
      },
      "source": [
        "**(f) Suppose we just make a random prediction on the testing set, that is, for each obs in the testing set, we randomly toss a coin, and assign the label 1 to this obs if we get a ”head” while assign 0 if get a ”tail”. Calculate the corresponding classification accuracy, sensitivity and specificity. You might generate the prediction on the testing set by using the following codes to generate random binary (Bernoulli) outcomes:**"
      ]
    },
    {
      "cell_type": "code",
      "metadata": {
        "id": "8Yaxm1UL7I-i",
        "colab": {
          "base_uri": "https://localhost:8080/",
          "height": 68
        },
        "outputId": "a814fd46-7449-431c-f724-346ebed9e642"
      },
      "source": [
        "# generate random binary outcomes\n",
        "n, p = 1, 0.5  # number of trials, probability of each trial\n",
        "binary_pred = np.random.binomial(n, p, len(y_test))\n",
        "# calculate corresponding accuracy, sensitivity, and specificity\n",
        "cm = confusion_matrix(y_test, binary_pred)\n",
        "tp = cm[0][0]\n",
        "fp = cm[0][1]\n",
        "fn = cm[1][0]\n",
        "tn = cm[1][1]\n",
        "accuracy_score = (tp+tn)/(tp+fp+fn+tn)\n",
        "sensitivity = tp/(tp+fn)\n",
        "specificity = tn/(fp+tn)\n",
        "print(\"The model has an accuracy of {accu}\".format(accu = accuracy_score))\n",
        "print(\"The model has a sensitivity score of {sens}\".format(sens = sensitivity))\n",
        "print(\"The model has a specificity score of {spec}\".format(spec = specificity))"
      ],
      "execution_count": null,
      "outputs": [
        {
          "output_type": "stream",
          "text": [
            "The model has an accuracy of 0.4967225054624909\n",
            "The model has a sensitivity score of 0.8850796716562047\n",
            "The model has a specificity score of 0.10400390625\n"
          ],
          "name": "stdout"
        }
      ]
    },
    {
      "cell_type": "markdown",
      "metadata": {
        "id": "u-gPA_xM8MLC"
      },
      "source": [
        "As we can see from the model results, performing  random guess will only end up around less than 50% accuracy."
      ]
    },
    {
      "cell_type": "markdown",
      "metadata": {
        "id": "HJTFCpv_8U4l"
      },
      "source": [
        "### Random Forest"
      ]
    },
    {
      "cell_type": "code",
      "metadata": {
        "id": "Apwbim_t9l6Y"
      },
      "source": [
        "from sklearn.ensemble import RandomForestClassifier"
      ],
      "execution_count": null,
      "outputs": []
    },
    {
      "cell_type": "markdown",
      "metadata": {
        "id": "Ug9jraKocEAu"
      },
      "source": [
        "**(g) Perform a random-forest model and report the accuracy, sensitivity and specificity on the testing predictions. Use a five-folder cross-validation to perform the tuning regarding the ”node size”. For the other two important parameters, we set total number of trees to be 500 and set the number of selected variables at each split as mtry = √p ≈ 7.**"
      ]
    },
    {
      "cell_type": "markdown",
      "metadata": {
        "id": "m-JNHSWwBPf4"
      },
      "source": [
        "#### Fit the model"
      ]
    },
    {
      "cell_type": "code",
      "metadata": {
        "id": "UMU9_v7K9pyO",
        "colab": {
          "base_uri": "https://localhost:8080/",
          "height": 68
        },
        "outputId": "b607b010-4df8-4ce0-8934-a1212757a014"
      },
      "source": [
        "# fit the random forest model\n",
        "# n_estimators is 500 and max_features is 7 as corresponding to R n and mtry\n",
        "rfc = RandomForestClassifier(n_estimators=500, max_features = 7, random_state=42)\n",
        "model = rfc.fit(X_train, y_train)\n",
        "pred = model.predict(X_test)\n",
        "# extract terms from the confusion matrix\n",
        "cm = confusion_matrix(y_test, pred)\n",
        "tp = cm[0][0]\n",
        "fp = cm[0][1]\n",
        "fn = cm[1][0]\n",
        "tn = cm[1][1]\n",
        "# calculate respective scores\n",
        "accuracy_score = (tp+tn)/(tp+fp+fn+tn)\n",
        "sensitivity = tp/(tp+fn)\n",
        "specificity = tn/(fp+tn)\n",
        "print(\"The model has an accuracy of {accu}\".format(accu = accuracy_score))\n",
        "print(\"The model has a sensitivity score of {sens}\".format(sens = sensitivity))\n",
        "print(\"The model has a specificity score of {spec}\".format(spec = specificity))"
      ],
      "execution_count": null,
      "outputs": [
        {
          "output_type": "stream",
          "text": [
            "The model has an accuracy of 1.0\n",
            "The model has a sensitivity score of 1.0\n",
            "The model has a specificity score of 1.0\n"
          ],
          "name": "stdout"
        }
      ]
    },
    {
      "cell_type": "code",
      "metadata": {
        "id": "vbzAlZyTBeG3",
        "colab": {
          "base_uri": "https://localhost:8080/",
          "height": 51
        },
        "outputId": "3e283e14-3954-4838-e6aa-f54d084ad553"
      },
      "source": [
        "cm"
      ],
      "execution_count": null,
      "outputs": [
        {
          "output_type": "execute_result",
          "data": {
            "text/plain": [
              "array([[3668,    0],\n",
              "       [   0,  451]])"
            ]
          },
          "metadata": {
            "tags": []
          },
          "execution_count": 34
        }
      ]
    },
    {
      "cell_type": "markdown",
      "metadata": {
        "id": "vUAs2rCWBj7h"
      },
      "source": [
        "As we can see, the model correctly classified everything!!! So there is no need to tune the model."
      ]
    },
    {
      "cell_type": "markdown",
      "metadata": {
        "id": "TWRkqyZ9B24o"
      },
      "source": [
        "Node size: In R, there is a parameter called “nodesize” which is defined as “Minimum size of terminal nodes”; However in Python, there is one called “min_sample_leaf” which is defined as “the minimum number of samples in newly created leaves”"
      ]
    },
    {
      "cell_type": "markdown",
      "metadata": {
        "id": "cnUjgNOPcQ2U"
      },
      "source": [
        "**(h) In the above random-forest model, we also want to check the importance of each covariate regarding the classification. Please take advantage of the ”importance” argument in the ”randomForest” function provided in the sample code and make a barplot of the MeanDecreaseGini values with respect to all covariates. (See Sample Code!) Based on what you find, do you think we can build a reduced model with fewer number of predictors?**"
      ]
    },
    {
      "cell_type": "code",
      "metadata": {
        "id": "uLTl77P5Di0J",
        "colab": {
          "base_uri": "https://localhost:8080/",
          "height": 867
        },
        "outputId": "0f8901cc-89b7-4e8c-cf86-0c3b16b720b5"
      },
      "source": [
        "# build and rank all features importance in this classifier\n",
        "importances = model.feature_importances_\n",
        "std = np.std([model.feature_importances_ for tree in model.estimators_],\n",
        "             axis=0)\n",
        "indices = np.argsort(importances)[::-1]\n",
        "\n",
        "# Print the feature ranking\n",
        "print(\"Feature ranking:\")\n",
        "\n",
        "for f in range(X_train.shape[1]):\n",
        "    print(\"%d. feature %d (%f)\" % (f + 1, indices[f], importances[indices[f]]))"
      ],
      "execution_count": null,
      "outputs": [
        {
          "output_type": "stream",
          "text": [
            "Feature ranking:\n",
            "1. feature 1 (0.310095)\n",
            "2. feature 5 (0.109159)\n",
            "3. feature 0 (0.090359)\n",
            "4. feature 6 (0.054546)\n",
            "5. feature 47 (0.043795)\n",
            "6. feature 46 (0.034873)\n",
            "7. feature 4 (0.025600)\n",
            "8. feature 2 (0.022835)\n",
            "9. feature 3 (0.021465)\n",
            "10. feature 8 (0.020733)\n",
            "11. feature 48 (0.015177)\n",
            "12. feature 21 (0.013501)\n",
            "13. feature 9 (0.013447)\n",
            "14. feature 29 (0.012903)\n",
            "15. feature 41 (0.011949)\n",
            "16. feature 22 (0.011942)\n",
            "17. feature 42 (0.011872)\n",
            "18. feature 44 (0.011841)\n",
            "19. feature 26 (0.011667)\n",
            "20. feature 43 (0.011365)\n",
            "21. feature 18 (0.011328)\n",
            "22. feature 31 (0.010763)\n",
            "23. feature 45 (0.009164)\n",
            "24. feature 10 (0.009148)\n",
            "25. feature 28 (0.009144)\n",
            "26. feature 25 (0.008449)\n",
            "27. feature 13 (0.007575)\n",
            "28. feature 16 (0.007034)\n",
            "29. feature 14 (0.006220)\n",
            "30. feature 39 (0.005561)\n",
            "31. feature 30 (0.005495)\n",
            "32. feature 36 (0.005202)\n",
            "33. feature 37 (0.004914)\n",
            "34. feature 15 (0.004737)\n",
            "35. feature 17 (0.004676)\n",
            "36. feature 24 (0.004674)\n",
            "37. feature 11 (0.004308)\n",
            "38. feature 19 (0.004121)\n",
            "39. feature 12 (0.003595)\n",
            "40. feature 35 (0.002625)\n",
            "41. feature 32 (0.002349)\n",
            "42. feature 34 (0.002347)\n",
            "43. feature 38 (0.002168)\n",
            "44. feature 40 (0.001958)\n",
            "45. feature 20 (0.001826)\n",
            "46. feature 33 (0.000713)\n",
            "47. feature 23 (0.000535)\n",
            "48. feature 27 (0.000245)\n",
            "49. feature 7 (0.000000)\n"
          ],
          "name": "stdout"
        }
      ]
    },
    {
      "cell_type": "markdown",
      "metadata": {
        "id": "cPYlMj7gEVPi"
      },
      "source": [
        "Yes! Base on the list of ranking of feature importance, we can clearly see that the bottom 36 features (14-49) has minimal to no contribution to the model performance, so we can definitely reduce the model with less predictor variables."
      ]
    },
    {
      "cell_type": "code",
      "metadata": {
        "id": "MxTlkeFv8w2G",
        "colab": {
          "base_uri": "https://localhost:8080/",
          "height": 281
        },
        "outputId": "078f649a-de00-467a-d001-a74180a77045"
      },
      "source": [
        "# plot the feature importance\n",
        "plt.figure()\n",
        "plt.title(\"Feature importances\")\n",
        "plt.barh(range(X_train.shape[1]), importances[indices],\n",
        "       color=\"r\", xerr=std[indices], align=\"center\")\n",
        "# If you want to define your own labels,\n",
        "# change indices to a list of labels on the following line.\n",
        "plt.yticks(range(X_train.shape[1]), indices)\n",
        "plt.ylim([-1, X_train.shape[1]])\n",
        "plt.show()"
      ],
      "execution_count": null,
      "outputs": [
        {
          "output_type": "display_data",
          "data": {
            "image/png": "[encoded data removed]",
            "text/plain": [
              "<Figure size 432x288 with 1 Axes>"
            ]
          },
          "metadata": {
            "tags": [],
            "needs_background": "light"
          }
        }
      ]
    },
    {
      "cell_type": "markdown",
      "metadata": {
        "id": "trX6FArS8aOW"
      },
      "source": [
        "### Boosting Model"
      ]
    },
    {
      "cell_type": "markdown",
      "metadata": {
        "id": "_xp1fCNOcago"
      },
      "source": [
        "**(i) Run a boosting model with the exponential loss(using ”adaboost” for the argument ”distribution” in the ”gbm” function). Tune the number of trees and the shrinkage factor by five-folder cross-validation. The number of trees is tuned over(100, 200, 500, 1000), and the shrinkage factor is tuned over 0.01 to 0.1 with a step size 0.01.Report the selected tuning parameter values and the corresponding prediction accuracy, sensitivity and specificity on the testing set.**"
      ]
    },
    {
      "cell_type": "code",
      "metadata": {
        "id": "xLPYXjpDD_O4"
      },
      "source": [
        "from sklearn.ensemble import AdaBoostClassifier, GradientBoostingClassifier"
      ],
      "execution_count": null,
      "outputs": []
    },
    {
      "cell_type": "code",
      "metadata": {
        "id": "vO4N4MmsEzY1"
      },
      "source": [
        "# fit and tune an adaboost classifier\n",
        "param_grid = [\n",
        "    # try 8 (4x2) combinations of hyperparameters\n",
        "    {'n_estimators': [100, 200, 500, 1000], 'learning_rate': [0.01, 0.1]},\n",
        "  ]\n",
        "abc = AdaBoostClassifier(random_state=42)\n",
        "# train across 5 folds, that's a total of ? rounds of training \n",
        "grid_search = GridSearchCV(abc, param_grid, cv=5,\n",
        "                           scoring='accuracy',\n",
        "                           return_train_score=True)\n",
        "grid_search.fit(X_train, y_train)"
      ],
      "execution_count": null,
      "outputs": []
    },
    {
      "cell_type": "code",
      "metadata": {
        "id": "jBnhfTHiFuBc",
        "colab": {
          "base_uri": "https://localhost:8080/",
          "height": 34
        },
        "outputId": "de234dfd-28b3-4f9b-f24e-6bf7654060b9"
      },
      "source": [
        "# show the best parameter\n",
        "grid_search.best_params_"
      ],
      "execution_count": null,
      "outputs": [
        {
          "output_type": "execute_result",
          "data": {
            "text/plain": [
              "{'learning_rate': 0.1, 'n_estimators': 1000}"
            ]
          },
          "metadata": {
            "tags": []
          },
          "execution_count": 39
        }
      ]
    },
    {
      "cell_type": "code",
      "metadata": {
        "id": "4tG02AE1FxQa",
        "colab": {
          "base_uri": "https://localhost:8080/",
          "height": 68
        },
        "outputId": "45c5b12d-30a5-473b-8417-e56fc56e0d04"
      },
      "source": [
        "# Final adaboost model\n",
        "abc = AdaBoostClassifier(n_estimators=1000, learning_rate=0.1, random_state=42)\n",
        "model = abc.fit(X_train, y_train)\n",
        "pred = model.predict(X_test)\n",
        "cm = confusion_matrix(y_test, pred)\n",
        "tp = cm[0][0]\n",
        "fp = cm[0][1]\n",
        "fn = cm[1][0]\n",
        "tn = cm[1][1]\n",
        "accuracy_score = (tp+tn)/(tp+fp+fn+tn)\n",
        "sensitivity = tp/(tp+fn)\n",
        "specificity = tn/(fp+tn)\n",
        "print(\"The model has an accuracy of {accu}\".format(accu = accuracy_score))\n",
        "print(\"The model has a sensitivity score of {sens}\".format(sens = sensitivity))\n",
        "print(\"The model has a specificity score of {spec}\".format(spec = specificity))"
      ],
      "execution_count": null,
      "outputs": [
        {
          "output_type": "stream",
          "text": [
            "The model has an accuracy of 0.9150279193979121\n",
            "The model has a sensitivity score of 0.9302385892116183\n",
            "The model has a specificity score of 0.6920152091254753\n"
          ],
          "name": "stdout"
        }
      ]
    },
    {
      "cell_type": "markdown",
      "metadata": {
        "id": "pnldYbGFyC3_"
      },
      "source": [
        "The adaboost classifier model with the best parameters from the fine tuning has accuracy of \n",
        "91.50%, sensitivity of 93.02%, and specificity score of 69.20%, which is pretty high."
      ]
    }
  ]
}